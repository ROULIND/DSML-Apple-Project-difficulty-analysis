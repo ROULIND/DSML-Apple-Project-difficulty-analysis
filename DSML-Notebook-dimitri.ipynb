{
 "cells": [
  {
   "cell_type": "markdown",
   "metadata": {},
   "source": [
    "**OVERVIEW**\n",
    "\n",
    "You have decided to form a startup called “LingoRank” with your University friend and become a millionaire. You have until the end the semester to create a proof of concept for your investors. Your startup will revolutionize the way people learn and get better at a foreign language.\n",
    "\n",
    "**THE IDEA**\n",
    "\n",
    "You have noticed that to improve one’s skills in a new foreign language, it is important to read texts in that language. These texts have to be at the reader’s language level. However, it is difficult to find texts that are close to someone’s knowledge level (A1 to C2). You have decided to build a model for English speakers that predicts the difficulty of a French written text. This can be then used, e.g., in a recommendation system, to recommend texts, e.g, recent news articles that are appropriate for someone’s language level. If someone is at A1 French level, it is inappropriate to present a text at B2 level, as she won’t be able to understand it. Ideally, a text should have many known words and may have a few words that are unknown so that the person can improve."
   ]
  },
  {
   "cell_type": "markdown",
   "metadata": {},
   "source": [
    "The code in this cell is installing/upgrading several Python packages using pip. These packages include scikit-learn, keras, tensorflow, pandas, numpy, matplotlib, and torch. Additionally, there seems to be a typo in the last line where \"ipgrade\" should be \"upgrade\". The purpose of this code is to ensure that the required packages are installed or updated to their latest versions before proceeding with the rest of the code."
   ]
  },
  {
   "cell_type": "code",
   "execution_count": 6,
   "metadata": {},
   "outputs": [
    {
     "name": "stdout",
     "output_type": "stream",
     "text": [
      "Requirement already satisfied: scikit-learn in /Users/dimitriroulin/Documents/Master/Data Science & Machine Learning/Assignments/Coding/assignementvenv/lib/python3.11/site-packages (1.3.2)\n",
      "Requirement already satisfied: numpy<2.0,>=1.17.3 in /Users/dimitriroulin/Documents/Master/Data Science & Machine Learning/Assignments/Coding/assignementvenv/lib/python3.11/site-packages (from scikit-learn) (1.26.2)\n",
      "Requirement already satisfied: scipy>=1.5.0 in /Users/dimitriroulin/Documents/Master/Data Science & Machine Learning/Assignments/Coding/assignementvenv/lib/python3.11/site-packages (from scikit-learn) (1.11.3)\n",
      "Requirement already satisfied: joblib>=1.1.1 in /Users/dimitriroulin/Documents/Master/Data Science & Machine Learning/Assignments/Coding/assignementvenv/lib/python3.11/site-packages (from scikit-learn) (1.3.2)\n",
      "Requirement already satisfied: threadpoolctl>=2.0.0 in /Users/dimitriroulin/Documents/Master/Data Science & Machine Learning/Assignments/Coding/assignementvenv/lib/python3.11/site-packages (from scikit-learn) (3.2.0)\n",
      "\n",
      "\u001b[1m[\u001b[0m\u001b[34;49mnotice\u001b[0m\u001b[1;39;49m]\u001b[0m\u001b[39;49m A new release of pip is available: \u001b[0m\u001b[31;49m23.2.1\u001b[0m\u001b[39;49m -> \u001b[0m\u001b[32;49m23.3.2\u001b[0m\n",
      "\u001b[1m[\u001b[0m\u001b[34;49mnotice\u001b[0m\u001b[1;39;49m]\u001b[0m\u001b[39;49m To update, run: \u001b[0m\u001b[32;49mpip install --upgrade pip\u001b[0m\n",
      "Requirement already satisfied: keras in /Users/dimitriroulin/Documents/Master/Data Science & Machine Learning/Assignments/Coding/assignementvenv/lib/python3.11/site-packages (2.15.0)\n",
      "Collecting keras\n",
      "  Obtaining dependency information for keras from https://files.pythonhosted.org/packages/b2/e4/30b53d839608d2212b97972a8516ba0c7e776ee1102eaa82624807b944cf/keras-3.0.1-py3-none-any.whl.metadata\n",
      "  Using cached keras-3.0.1-py3-none-any.whl.metadata (4.8 kB)\n",
      "Requirement already satisfied: absl-py in /Users/dimitriroulin/Documents/Master/Data Science & Machine Learning/Assignments/Coding/assignementvenv/lib/python3.11/site-packages (from keras) (2.0.0)\n",
      "Requirement already satisfied: numpy in /Users/dimitriroulin/Documents/Master/Data Science & Machine Learning/Assignments/Coding/assignementvenv/lib/python3.11/site-packages (from keras) (1.26.2)\n",
      "Requirement already satisfied: rich in /Users/dimitriroulin/Documents/Master/Data Science & Machine Learning/Assignments/Coding/assignementvenv/lib/python3.11/site-packages (from keras) (13.7.0)\n",
      "Requirement already satisfied: namex in /Users/dimitriroulin/Documents/Master/Data Science & Machine Learning/Assignments/Coding/assignementvenv/lib/python3.11/site-packages (from keras) (0.0.7)\n",
      "Requirement already satisfied: h5py in /Users/dimitriroulin/Documents/Master/Data Science & Machine Learning/Assignments/Coding/assignementvenv/lib/python3.11/site-packages (from keras) (3.10.0)\n",
      "Requirement already satisfied: dm-tree in /Users/dimitriroulin/Documents/Master/Data Science & Machine Learning/Assignments/Coding/assignementvenv/lib/python3.11/site-packages (from keras) (0.1.8)\n",
      "Requirement already satisfied: markdown-it-py>=2.2.0 in /Users/dimitriroulin/Documents/Master/Data Science & Machine Learning/Assignments/Coding/assignementvenv/lib/python3.11/site-packages (from rich->keras) (3.0.0)\n",
      "Requirement already satisfied: pygments<3.0.0,>=2.13.0 in /Users/dimitriroulin/Documents/Master/Data Science & Machine Learning/Assignments/Coding/assignementvenv/lib/python3.11/site-packages (from rich->keras) (2.16.1)\n",
      "Requirement already satisfied: mdurl~=0.1 in /Users/dimitriroulin/Documents/Master/Data Science & Machine Learning/Assignments/Coding/assignementvenv/lib/python3.11/site-packages (from markdown-it-py>=2.2.0->rich->keras) (0.1.2)\n",
      "Using cached keras-3.0.1-py3-none-any.whl (999 kB)\n",
      "Installing collected packages: keras\n",
      "  Attempting uninstall: keras\n",
      "    Found existing installation: keras 2.15.0\n",
      "    Uninstalling keras-2.15.0:\n",
      "      Successfully uninstalled keras-2.15.0\n",
      "\u001b[31mERROR: pip's dependency resolver does not currently take into account all the packages that are installed. This behaviour is the source of the following dependency conflicts.\n",
      "tensorflow-macos 2.15.0 requires keras<2.16,>=2.15.0, but you have keras 3.0.1 which is incompatible.\u001b[0m\u001b[31m\n",
      "\u001b[0mSuccessfully installed keras-3.0.1\n",
      "\n",
      "\u001b[1m[\u001b[0m\u001b[34;49mnotice\u001b[0m\u001b[1;39;49m]\u001b[0m\u001b[39;49m A new release of pip is available: \u001b[0m\u001b[31;49m23.2.1\u001b[0m\u001b[39;49m -> \u001b[0m\u001b[32;49m23.3.2\u001b[0m\n",
      "\u001b[1m[\u001b[0m\u001b[34;49mnotice\u001b[0m\u001b[1;39;49m]\u001b[0m\u001b[39;49m To update, run: \u001b[0m\u001b[32;49mpip install --upgrade pip\u001b[0m\n",
      "Requirement already satisfied: tensorflow in /Users/dimitriroulin/Documents/Master/Data Science & Machine Learning/Assignments/Coding/assignementvenv/lib/python3.11/site-packages (2.15.0)\n",
      "Requirement already satisfied: tensorflow-macos==2.15.0 in /Users/dimitriroulin/Documents/Master/Data Science & Machine Learning/Assignments/Coding/assignementvenv/lib/python3.11/site-packages (from tensorflow) (2.15.0)\n",
      "Requirement already satisfied: absl-py>=1.0.0 in /Users/dimitriroulin/Documents/Master/Data Science & Machine Learning/Assignments/Coding/assignementvenv/lib/python3.11/site-packages (from tensorflow-macos==2.15.0->tensorflow) (2.0.0)\n",
      "Requirement already satisfied: astunparse>=1.6.0 in /Users/dimitriroulin/Documents/Master/Data Science & Machine Learning/Assignments/Coding/assignementvenv/lib/python3.11/site-packages (from tensorflow-macos==2.15.0->tensorflow) (1.6.3)\n",
      "Requirement already satisfied: flatbuffers>=23.5.26 in /Users/dimitriroulin/Documents/Master/Data Science & Machine Learning/Assignments/Coding/assignementvenv/lib/python3.11/site-packages (from tensorflow-macos==2.15.0->tensorflow) (23.5.26)\n",
      "Requirement already satisfied: gast!=0.5.0,!=0.5.1,!=0.5.2,>=0.2.1 in /Users/dimitriroulin/Documents/Master/Data Science & Machine Learning/Assignments/Coding/assignementvenv/lib/python3.11/site-packages (from tensorflow-macos==2.15.0->tensorflow) (0.5.4)\n",
      "Requirement already satisfied: google-pasta>=0.1.1 in /Users/dimitriroulin/Documents/Master/Data Science & Machine Learning/Assignments/Coding/assignementvenv/lib/python3.11/site-packages (from tensorflow-macos==2.15.0->tensorflow) (0.2.0)\n",
      "Requirement already satisfied: h5py>=2.9.0 in /Users/dimitriroulin/Documents/Master/Data Science & Machine Learning/Assignments/Coding/assignementvenv/lib/python3.11/site-packages (from tensorflow-macos==2.15.0->tensorflow) (3.10.0)\n",
      "Requirement already satisfied: libclang>=13.0.0 in /Users/dimitriroulin/Documents/Master/Data Science & Machine Learning/Assignments/Coding/assignementvenv/lib/python3.11/site-packages (from tensorflow-macos==2.15.0->tensorflow) (16.0.6)\n",
      "Requirement already satisfied: ml-dtypes~=0.2.0 in /Users/dimitriroulin/Documents/Master/Data Science & Machine Learning/Assignments/Coding/assignementvenv/lib/python3.11/site-packages (from tensorflow-macos==2.15.0->tensorflow) (0.2.0)\n",
      "Requirement already satisfied: numpy<2.0.0,>=1.23.5 in /Users/dimitriroulin/Documents/Master/Data Science & Machine Learning/Assignments/Coding/assignementvenv/lib/python3.11/site-packages (from tensorflow-macos==2.15.0->tensorflow) (1.26.2)\n",
      "Requirement already satisfied: opt-einsum>=2.3.2 in /Users/dimitriroulin/Documents/Master/Data Science & Machine Learning/Assignments/Coding/assignementvenv/lib/python3.11/site-packages (from tensorflow-macos==2.15.0->tensorflow) (3.3.0)\n",
      "Requirement already satisfied: packaging in /Users/dimitriroulin/Documents/Master/Data Science & Machine Learning/Assignments/Coding/assignementvenv/lib/python3.11/site-packages (from tensorflow-macos==2.15.0->tensorflow) (23.2)\n",
      "Requirement already satisfied: protobuf!=4.21.0,!=4.21.1,!=4.21.2,!=4.21.3,!=4.21.4,!=4.21.5,<5.0.0dev,>=3.20.3 in /Users/dimitriroulin/Documents/Master/Data Science & Machine Learning/Assignments/Coding/assignementvenv/lib/python3.11/site-packages (from tensorflow-macos==2.15.0->tensorflow) (4.23.4)\n",
      "Requirement already satisfied: setuptools in /Users/dimitriroulin/Documents/Master/Data Science & Machine Learning/Assignments/Coding/assignementvenv/lib/python3.11/site-packages (from tensorflow-macos==2.15.0->tensorflow) (68.1.2)\n",
      "Requirement already satisfied: six>=1.12.0 in /Users/dimitriroulin/Documents/Master/Data Science & Machine Learning/Assignments/Coding/assignementvenv/lib/python3.11/site-packages (from tensorflow-macos==2.15.0->tensorflow) (1.16.0)\n",
      "Requirement already satisfied: termcolor>=1.1.0 in /Users/dimitriroulin/Documents/Master/Data Science & Machine Learning/Assignments/Coding/assignementvenv/lib/python3.11/site-packages (from tensorflow-macos==2.15.0->tensorflow) (2.4.0)\n",
      "Requirement already satisfied: typing-extensions>=3.6.6 in /Users/dimitriroulin/Documents/Master/Data Science & Machine Learning/Assignments/Coding/assignementvenv/lib/python3.11/site-packages (from tensorflow-macos==2.15.0->tensorflow) (4.9.0)\n",
      "Requirement already satisfied: wrapt<1.15,>=1.11.0 in /Users/dimitriroulin/Documents/Master/Data Science & Machine Learning/Assignments/Coding/assignementvenv/lib/python3.11/site-packages (from tensorflow-macos==2.15.0->tensorflow) (1.14.1)\n",
      "Requirement already satisfied: tensorflow-io-gcs-filesystem>=0.23.1 in /Users/dimitriroulin/Documents/Master/Data Science & Machine Learning/Assignments/Coding/assignementvenv/lib/python3.11/site-packages (from tensorflow-macos==2.15.0->tensorflow) (0.34.0)\n",
      "Requirement already satisfied: grpcio<2.0,>=1.24.3 in /Users/dimitriroulin/Documents/Master/Data Science & Machine Learning/Assignments/Coding/assignementvenv/lib/python3.11/site-packages (from tensorflow-macos==2.15.0->tensorflow) (1.60.0)\n",
      "Requirement already satisfied: tensorboard<2.16,>=2.15 in /Users/dimitriroulin/Documents/Master/Data Science & Machine Learning/Assignments/Coding/assignementvenv/lib/python3.11/site-packages (from tensorflow-macos==2.15.0->tensorflow) (2.15.1)\n",
      "Requirement already satisfied: tensorflow-estimator<2.16,>=2.15.0 in /Users/dimitriroulin/Documents/Master/Data Science & Machine Learning/Assignments/Coding/assignementvenv/lib/python3.11/site-packages (from tensorflow-macos==2.15.0->tensorflow) (2.15.0)\n",
      "Collecting keras<2.16,>=2.15.0 (from tensorflow-macos==2.15.0->tensorflow)\n",
      "  Obtaining dependency information for keras<2.16,>=2.15.0 from https://files.pythonhosted.org/packages/fc/a7/0d4490de967a67f68a538cc9cdb259bff971c4b5787f7765dc7c8f118f71/keras-2.15.0-py3-none-any.whl.metadata\n",
      "  Using cached keras-2.15.0-py3-none-any.whl.metadata (2.4 kB)\n",
      "Requirement already satisfied: wheel<1.0,>=0.23.0 in /Users/dimitriroulin/Documents/Master/Data Science & Machine Learning/Assignments/Coding/assignementvenv/lib/python3.11/site-packages (from astunparse>=1.6.0->tensorflow-macos==2.15.0->tensorflow) (0.42.0)\n",
      "Requirement already satisfied: google-auth<3,>=1.6.3 in /Users/dimitriroulin/Documents/Master/Data Science & Machine Learning/Assignments/Coding/assignementvenv/lib/python3.11/site-packages (from tensorboard<2.16,>=2.15->tensorflow-macos==2.15.0->tensorflow) (2.25.2)\n",
      "Requirement already satisfied: google-auth-oauthlib<2,>=0.5 in /Users/dimitriroulin/Documents/Master/Data Science & Machine Learning/Assignments/Coding/assignementvenv/lib/python3.11/site-packages (from tensorboard<2.16,>=2.15->tensorflow-macos==2.15.0->tensorflow) (1.2.0)\n",
      "Requirement already satisfied: markdown>=2.6.8 in /Users/dimitriroulin/Documents/Master/Data Science & Machine Learning/Assignments/Coding/assignementvenv/lib/python3.11/site-packages (from tensorboard<2.16,>=2.15->tensorflow-macos==2.15.0->tensorflow) (3.5.1)\n",
      "Requirement already satisfied: requests<3,>=2.21.0 in /Users/dimitriroulin/Documents/Master/Data Science & Machine Learning/Assignments/Coding/assignementvenv/lib/python3.11/site-packages (from tensorboard<2.16,>=2.15->tensorflow-macos==2.15.0->tensorflow) (2.31.0)\n",
      "Requirement already satisfied: tensorboard-data-server<0.8.0,>=0.7.0 in /Users/dimitriroulin/Documents/Master/Data Science & Machine Learning/Assignments/Coding/assignementvenv/lib/python3.11/site-packages (from tensorboard<2.16,>=2.15->tensorflow-macos==2.15.0->tensorflow) (0.7.2)\n",
      "Requirement already satisfied: werkzeug>=1.0.1 in /Users/dimitriroulin/Documents/Master/Data Science & Machine Learning/Assignments/Coding/assignementvenv/lib/python3.11/site-packages (from tensorboard<2.16,>=2.15->tensorflow-macos==2.15.0->tensorflow) (3.0.1)\n",
      "Requirement already satisfied: cachetools<6.0,>=2.0.0 in /Users/dimitriroulin/Documents/Master/Data Science & Machine Learning/Assignments/Coding/assignementvenv/lib/python3.11/site-packages (from google-auth<3,>=1.6.3->tensorboard<2.16,>=2.15->tensorflow-macos==2.15.0->tensorflow) (5.3.2)\n",
      "Requirement already satisfied: pyasn1-modules>=0.2.1 in /Users/dimitriroulin/Documents/Master/Data Science & Machine Learning/Assignments/Coding/assignementvenv/lib/python3.11/site-packages (from google-auth<3,>=1.6.3->tensorboard<2.16,>=2.15->tensorflow-macos==2.15.0->tensorflow) (0.3.0)\n",
      "Requirement already satisfied: rsa<5,>=3.1.4 in /Users/dimitriroulin/Documents/Master/Data Science & Machine Learning/Assignments/Coding/assignementvenv/lib/python3.11/site-packages (from google-auth<3,>=1.6.3->tensorboard<2.16,>=2.15->tensorflow-macos==2.15.0->tensorflow) (4.9)\n",
      "Requirement already satisfied: requests-oauthlib>=0.7.0 in /Users/dimitriroulin/Documents/Master/Data Science & Machine Learning/Assignments/Coding/assignementvenv/lib/python3.11/site-packages (from google-auth-oauthlib<2,>=0.5->tensorboard<2.16,>=2.15->tensorflow-macos==2.15.0->tensorflow) (1.3.1)\n",
      "Requirement already satisfied: charset-normalizer<4,>=2 in /Users/dimitriroulin/Documents/Master/Data Science & Machine Learning/Assignments/Coding/assignementvenv/lib/python3.11/site-packages (from requests<3,>=2.21.0->tensorboard<2.16,>=2.15->tensorflow-macos==2.15.0->tensorflow) (3.3.2)\n",
      "Requirement already satisfied: idna<4,>=2.5 in /Users/dimitriroulin/Documents/Master/Data Science & Machine Learning/Assignments/Coding/assignementvenv/lib/python3.11/site-packages (from requests<3,>=2.21.0->tensorboard<2.16,>=2.15->tensorflow-macos==2.15.0->tensorflow) (3.6)\n",
      "Requirement already satisfied: urllib3<3,>=1.21.1 in /Users/dimitriroulin/Documents/Master/Data Science & Machine Learning/Assignments/Coding/assignementvenv/lib/python3.11/site-packages (from requests<3,>=2.21.0->tensorboard<2.16,>=2.15->tensorflow-macos==2.15.0->tensorflow) (2.1.0)\n",
      "Requirement already satisfied: certifi>=2017.4.17 in /Users/dimitriroulin/Documents/Master/Data Science & Machine Learning/Assignments/Coding/assignementvenv/lib/python3.11/site-packages (from requests<3,>=2.21.0->tensorboard<2.16,>=2.15->tensorflow-macos==2.15.0->tensorflow) (2023.11.17)\n",
      "Requirement already satisfied: MarkupSafe>=2.1.1 in /Users/dimitriroulin/Documents/Master/Data Science & Machine Learning/Assignments/Coding/assignementvenv/lib/python3.11/site-packages (from werkzeug>=1.0.1->tensorboard<2.16,>=2.15->tensorflow-macos==2.15.0->tensorflow) (2.1.3)\n",
      "Requirement already satisfied: pyasn1<0.6.0,>=0.4.6 in /Users/dimitriroulin/Documents/Master/Data Science & Machine Learning/Assignments/Coding/assignementvenv/lib/python3.11/site-packages (from pyasn1-modules>=0.2.1->google-auth<3,>=1.6.3->tensorboard<2.16,>=2.15->tensorflow-macos==2.15.0->tensorflow) (0.5.1)\n",
      "Requirement already satisfied: oauthlib>=3.0.0 in /Users/dimitriroulin/Documents/Master/Data Science & Machine Learning/Assignments/Coding/assignementvenv/lib/python3.11/site-packages (from requests-oauthlib>=0.7.0->google-auth-oauthlib<2,>=0.5->tensorboard<2.16,>=2.15->tensorflow-macos==2.15.0->tensorflow) (3.2.2)\n",
      "Using cached keras-2.15.0-py3-none-any.whl (1.7 MB)\n",
      "Installing collected packages: keras\n",
      "  Attempting uninstall: keras\n",
      "    Found existing installation: keras 3.0.1\n",
      "    Uninstalling keras-3.0.1:\n",
      "      Successfully uninstalled keras-3.0.1\n",
      "Successfully installed keras-2.15.0\n",
      "\n",
      "\u001b[1m[\u001b[0m\u001b[34;49mnotice\u001b[0m\u001b[1;39;49m]\u001b[0m\u001b[39;49m A new release of pip is available: \u001b[0m\u001b[31;49m23.2.1\u001b[0m\u001b[39;49m -> \u001b[0m\u001b[32;49m23.3.2\u001b[0m\n",
      "\u001b[1m[\u001b[0m\u001b[34;49mnotice\u001b[0m\u001b[1;39;49m]\u001b[0m\u001b[39;49m To update, run: \u001b[0m\u001b[32;49mpip install --upgrade pip\u001b[0m\n",
      "Requirement already satisfied: pandas in /Users/dimitriroulin/Documents/Master/Data Science & Machine Learning/Assignments/Coding/assignementvenv/lib/python3.11/site-packages (2.1.4)\n",
      "Requirement already satisfied: numpy<2,>=1.23.2 in /Users/dimitriroulin/Documents/Master/Data Science & Machine Learning/Assignments/Coding/assignementvenv/lib/python3.11/site-packages (from pandas) (1.26.2)\n",
      "Requirement already satisfied: python-dateutil>=2.8.2 in /Users/dimitriroulin/Documents/Master/Data Science & Machine Learning/Assignments/Coding/assignementvenv/lib/python3.11/site-packages (from pandas) (2.8.2)\n",
      "Requirement already satisfied: pytz>=2020.1 in /Users/dimitriroulin/Documents/Master/Data Science & Machine Learning/Assignments/Coding/assignementvenv/lib/python3.11/site-packages (from pandas) (2023.3.post1)\n",
      "Requirement already satisfied: tzdata>=2022.1 in /Users/dimitriroulin/Documents/Master/Data Science & Machine Learning/Assignments/Coding/assignementvenv/lib/python3.11/site-packages (from pandas) (2023.3)\n",
      "Requirement already satisfied: six>=1.5 in /Users/dimitriroulin/Documents/Master/Data Science & Machine Learning/Assignments/Coding/assignementvenv/lib/python3.11/site-packages (from python-dateutil>=2.8.2->pandas) (1.16.0)\n",
      "\n",
      "\u001b[1m[\u001b[0m\u001b[34;49mnotice\u001b[0m\u001b[1;39;49m]\u001b[0m\u001b[39;49m A new release of pip is available: \u001b[0m\u001b[31;49m23.2.1\u001b[0m\u001b[39;49m -> \u001b[0m\u001b[32;49m23.3.2\u001b[0m\n",
      "\u001b[1m[\u001b[0m\u001b[34;49mnotice\u001b[0m\u001b[1;39;49m]\u001b[0m\u001b[39;49m To update, run: \u001b[0m\u001b[32;49mpip install --upgrade pip\u001b[0m\n",
      "Requirement already satisfied: numpy in /Users/dimitriroulin/Documents/Master/Data Science & Machine Learning/Assignments/Coding/assignementvenv/lib/python3.11/site-packages (1.26.2)\n",
      "\n",
      "\u001b[1m[\u001b[0m\u001b[34;49mnotice\u001b[0m\u001b[1;39;49m]\u001b[0m\u001b[39;49m A new release of pip is available: \u001b[0m\u001b[31;49m23.2.1\u001b[0m\u001b[39;49m -> \u001b[0m\u001b[32;49m23.3.2\u001b[0m\n",
      "\u001b[1m[\u001b[0m\u001b[34;49mnotice\u001b[0m\u001b[1;39;49m]\u001b[0m\u001b[39;49m To update, run: \u001b[0m\u001b[32;49mpip install --upgrade pip\u001b[0m\n",
      "Requirement already satisfied: matplotlib in /Users/dimitriroulin/Documents/Master/Data Science & Machine Learning/Assignments/Coding/assignementvenv/lib/python3.11/site-packages (3.8.2)\n",
      "Requirement already satisfied: contourpy>=1.0.1 in /Users/dimitriroulin/Documents/Master/Data Science & Machine Learning/Assignments/Coding/assignementvenv/lib/python3.11/site-packages (from matplotlib) (1.1.1)\n",
      "Requirement already satisfied: cycler>=0.10 in /Users/dimitriroulin/Documents/Master/Data Science & Machine Learning/Assignments/Coding/assignementvenv/lib/python3.11/site-packages (from matplotlib) (0.12.1)\n",
      "Requirement already satisfied: fonttools>=4.22.0 in /Users/dimitriroulin/Documents/Master/Data Science & Machine Learning/Assignments/Coding/assignementvenv/lib/python3.11/site-packages (from matplotlib) (4.43.1)\n",
      "Requirement already satisfied: kiwisolver>=1.3.1 in /Users/dimitriroulin/Documents/Master/Data Science & Machine Learning/Assignments/Coding/assignementvenv/lib/python3.11/site-packages (from matplotlib) (1.4.5)\n",
      "Requirement already satisfied: numpy<2,>=1.21 in /Users/dimitriroulin/Documents/Master/Data Science & Machine Learning/Assignments/Coding/assignementvenv/lib/python3.11/site-packages (from matplotlib) (1.26.2)\n",
      "Requirement already satisfied: packaging>=20.0 in /Users/dimitriroulin/Documents/Master/Data Science & Machine Learning/Assignments/Coding/assignementvenv/lib/python3.11/site-packages (from matplotlib) (23.2)\n",
      "Requirement already satisfied: pillow>=8 in /Users/dimitriroulin/Documents/Master/Data Science & Machine Learning/Assignments/Coding/assignementvenv/lib/python3.11/site-packages (from matplotlib) (10.0.1)\n",
      "Requirement already satisfied: pyparsing>=2.3.1 in /Users/dimitriroulin/Documents/Master/Data Science & Machine Learning/Assignments/Coding/assignementvenv/lib/python3.11/site-packages (from matplotlib) (3.1.1)\n",
      "Requirement already satisfied: python-dateutil>=2.7 in /Users/dimitriroulin/Documents/Master/Data Science & Machine Learning/Assignments/Coding/assignementvenv/lib/python3.11/site-packages (from matplotlib) (2.8.2)\n",
      "Requirement already satisfied: six>=1.5 in /Users/dimitriroulin/Documents/Master/Data Science & Machine Learning/Assignments/Coding/assignementvenv/lib/python3.11/site-packages (from python-dateutil>=2.7->matplotlib) (1.16.0)\n",
      "\n",
      "\u001b[1m[\u001b[0m\u001b[34;49mnotice\u001b[0m\u001b[1;39;49m]\u001b[0m\u001b[39;49m A new release of pip is available: \u001b[0m\u001b[31;49m23.2.1\u001b[0m\u001b[39;49m -> \u001b[0m\u001b[32;49m23.3.2\u001b[0m\n",
      "\u001b[1m[\u001b[0m\u001b[34;49mnotice\u001b[0m\u001b[1;39;49m]\u001b[0m\u001b[39;49m To update, run: \u001b[0m\u001b[32;49mpip install --upgrade pip\u001b[0m\n",
      "Requirement already satisfied: torch in /Users/dimitriroulin/Documents/Master/Data Science & Machine Learning/Assignments/Coding/assignementvenv/lib/python3.11/site-packages (2.1.2)\n",
      "Requirement already satisfied: filelock in /Users/dimitriroulin/Documents/Master/Data Science & Machine Learning/Assignments/Coding/assignementvenv/lib/python3.11/site-packages (from torch) (3.13.1)\n",
      "Requirement already satisfied: typing-extensions in /Users/dimitriroulin/Documents/Master/Data Science & Machine Learning/Assignments/Coding/assignementvenv/lib/python3.11/site-packages (from torch) (4.9.0)\n",
      "Requirement already satisfied: sympy in /Users/dimitriroulin/Documents/Master/Data Science & Machine Learning/Assignments/Coding/assignementvenv/lib/python3.11/site-packages (from torch) (1.12)\n",
      "Requirement already satisfied: networkx in /Users/dimitriroulin/Documents/Master/Data Science & Machine Learning/Assignments/Coding/assignementvenv/lib/python3.11/site-packages (from torch) (3.2.1)\n",
      "Requirement already satisfied: jinja2 in /Users/dimitriroulin/Documents/Master/Data Science & Machine Learning/Assignments/Coding/assignementvenv/lib/python3.11/site-packages (from torch) (3.1.2)\n",
      "Requirement already satisfied: fsspec in /Users/dimitriroulin/Documents/Master/Data Science & Machine Learning/Assignments/Coding/assignementvenv/lib/python3.11/site-packages (from torch) (2023.12.2)\n",
      "Requirement already satisfied: MarkupSafe>=2.0 in /Users/dimitriroulin/Documents/Master/Data Science & Machine Learning/Assignments/Coding/assignementvenv/lib/python3.11/site-packages (from jinja2->torch) (2.1.3)\n",
      "Requirement already satisfied: mpmath>=0.19 in /Users/dimitriroulin/Documents/Master/Data Science & Machine Learning/Assignments/Coding/assignementvenv/lib/python3.11/site-packages (from sympy->torch) (1.3.0)\n",
      "\n",
      "\u001b[1m[\u001b[0m\u001b[34;49mnotice\u001b[0m\u001b[1;39;49m]\u001b[0m\u001b[39;49m A new release of pip is available: \u001b[0m\u001b[31;49m23.2.1\u001b[0m\u001b[39;49m -> \u001b[0m\u001b[32;49m23.3.2\u001b[0m\n",
      "\u001b[1m[\u001b[0m\u001b[34;49mnotice\u001b[0m\u001b[1;39;49m]\u001b[0m\u001b[39;49m To update, run: \u001b[0m\u001b[32;49mpip install --upgrade pip\u001b[0m\n",
      "\n",
      "Usage:   \n",
      "  pip install [options] <requirement specifier> [package-index-options] ...\n",
      "  pip install [options] -r <requirements file> [package-index-options] ...\n",
      "  pip install [options] [-e] <vcs project url> ...\n",
      "  pip install [options] [-e] <local project path> ...\n",
      "  pip install [options] <archive url/path> ...\n",
      "\n",
      "no such option: --ipgrade\n"
     ]
    }
   ],
   "source": [
    "!pip install --upgrade scikit-learn\n",
    "!pip install --upgrade keras\n",
    "!pip install --upgrade tensorflow\n",
    "!pip install --upgrade pandas\n",
    "!pip install --upgrade numpy\n",
    "!pip install --upgrade matplotlib\n",
    "!pip install --upgrade torch\n",
    "!pip install --ipgrade nltk"
   ]
  },
  {
   "cell_type": "markdown",
   "metadata": {},
   "source": [
    "The code in this cell imports several Python packages and libraries that are commonly used in data science and machine learning tasks. Here is a brief description of each import statement:\n",
    "\n",
    " - import pandas as pd: This imports the pandas library and assigns it the alias pd. Pandas is a powerful data manipulation and analysis library that provides data structures and functions for efficiently working with structured data.\n",
    "\n",
    " - import nltk: This imports the nltk library, which stands for Natural Language Toolkit. NLTK is a popular library for natural language processing tasks, such as tokenization, stemming, and part-of-speech tagging..."
   ]
  },
  {
   "cell_type": "code",
   "execution_count": 7,
   "metadata": {},
   "outputs": [],
   "source": [
    "import pandas as pd\n",
    "import nltk\n",
    "from nltk.corpus import stopwords\n",
    "from nltk.tokenize import word_tokenize\n",
    "from sklearn.model_selection import train_test_split\n",
    "from sklearn.feature_extraction.text import CountVectorizer\n",
    "from sklearn.naive_bayes import MultinomialNB\n",
    "from sklearn.metrics import accuracy_score\n",
    "from sklearn.feature_extraction.text import TfidfVectorizer\n",
    "from sklearn.metrics import confusion_matrix\n",
    "import numpy as np\n",
    "from sklearn.metrics import ConfusionMatrixDisplay"
   ]
  },
  {
   "cell_type": "markdown",
   "metadata": {},
   "source": [
    "Downloading the data :"
   ]
  },
  {
   "cell_type": "markdown",
   "metadata": {},
   "source": [
    "The code in this cell is responsible for downloading and loading data from CSV files into pandas dataframes. It also downloads the NLTK stopwords corpus if it has not been downloaded already.\n",
    "\n",
    "Here is a breakdown of the code:\n",
    "\n",
    " - sample_submission_df = pd.read_csv('sample_submission.csv'): This line reads the contents of the 'sample_submission.csv' file and stores it in the sample_submission_df dataframe.\n",
    "\n",
    " - training_data_df = pd.read_csv('training_data.csv'): This line reads the contents of the 'training_data.csv' file and stores it in the training_data_df dataframe.\n",
    "\n",
    " - unlabelled_test_data_df = pd.read_csv('unlabelled_test_data.csv'): This line reads the contents of the 'unlabelled_test_data.csv' file and stores it in the unlabelled_test_data_df dataframe."
   ]
  },
  {
   "cell_type": "code",
   "execution_count": 8,
   "metadata": {},
   "outputs": [
    {
     "name": "stdout",
     "output_type": "stream",
     "text": [
      "(4800, 3)\n"
     ]
    },
    {
     "name": "stderr",
     "output_type": "stream",
     "text": [
      "[nltk_data] Downloading package stopwords to\n",
      "[nltk_data]     /Users/dimitriroulin/nltk_data...\n",
      "[nltk_data]   Package stopwords is already up-to-date!\n",
      "[nltk_data] Downloading package punkt to\n",
      "[nltk_data]     /Users/dimitriroulin/nltk_data...\n",
      "[nltk_data]   Package punkt is already up-to-date!\n"
     ]
    },
    {
     "data": {
      "text/plain": [
       "True"
      ]
     },
     "execution_count": 8,
     "metadata": {},
     "output_type": "execute_result"
    }
   ],
   "source": [
    "\n",
    "# download the data from the given URLs and store them in dataframes\n",
    "sample_submission_df = pd.read_csv('sample_submission.csv')\n",
    "training_data_df = pd.read_csv('training_data.csv')\n",
    "unlabelled_test_data_df = pd.read_csv('unlabelled_test_data.csv')\n",
    "\n",
    "print(training_data_df.shape)\n",
    "training_data_df.head()\n",
    "# download the stopwords corpus if not already downloaded\n",
    "nltk.download('stopwords')\n",
    "nltk.download('punkt') "
   ]
  },
  {
   "cell_type": "markdown",
   "metadata": {},
   "source": [
    "Cleaning the data"
   ]
  },
  {
   "cell_type": "code",
   "execution_count": 9,
   "metadata": {},
   "outputs": [
    {
     "name": "stdout",
     "output_type": "stream",
     "text": [
      "(4800, 3)\n"
     ]
    }
   ],
   "source": [
    "# Drop any rows with missing values\n",
    "training_data_df.dropna(inplace=True)\n",
    "\n",
    "# Remove any duplicates\n",
    "training_data_df.drop_duplicates(inplace=True)\n",
    "\n",
    "print(training_data_df.shape)"
   ]
  },
  {
   "cell_type": "markdown",
   "metadata": {},
   "source": [
    "Building the firt model using nltkFreqDist"
   ]
  },
  {
   "cell_type": "code",
   "execution_count": 10,
   "metadata": {},
   "outputs": [
    {
     "name": "stdout",
     "output_type": "stream",
     "text": [
      "Les coûts kilométriques réels peuvent diverger sensiblement des valeurs moyennes en fonction du moyen de transport utilisé, du taux d'occupation ou du taux de remplissage, de l'infrastructure utilisée, de la topographie des lignes, du flux de trafic, etc.\n"
     ]
    }
   ],
   "source": [
    "print(training_data_df['sentence'][0])"
   ]
  },
  {
   "cell_type": "code",
   "execution_count": 11,
   "metadata": {},
   "outputs": [
    {
     "name": "stdout",
     "output_type": "stream",
     "text": [
      "Accuracy: 0.4125\n"
     ]
    },
    {
     "data": {
      "image/png": "[encoded data removed]",
      "text/plain": [
       "<Figure size 640x480 with 2 Axes>"
      ]
     },
     "metadata": {},
     "output_type": "display_data"
    }
   ],
   "source": [
    "\n",
    "# import the necessary libraries\n",
    "import matplotlib.pyplot as plt\n",
    "\n",
    "# split the data into training and testing sets\n",
    "X_train, X_test, y_train, y_test = train_test_split(training_data_df['sentence'], training_data_df['difficulty'], test_size=0.2, random_state=42)\n",
    "\n",
    "# vectorize the text data\n",
    "vectorizer = CountVectorizer()\n",
    "X_train_vec = vectorizer.fit_transform(X_train)\n",
    "X_test_vec = vectorizer.transform(X_test)\n",
    "\n",
    "# train the model\n",
    "clf = MultinomialNB()\n",
    "clf.fit(X_train_vec, y_train)\n",
    "\n",
    "# make predictions on the test set\n",
    "y_pred = clf.predict(X_test_vec)\n",
    "\n",
    "# calculate the accuracy of the model\n",
    "accuracy = accuracy_score(y_test, y_pred)\n",
    "\n",
    "# generate the confusion matrix\n",
    "cm = confusion_matrix(y_test, y_pred)\n",
    "\n",
    "# display the confusion matrix\n",
    "disp = ConfusionMatrixDisplay(confusion_matrix=cm, display_labels=clf.classes_)\n",
    "disp.plot()\n",
    "\n",
    "# display the accuracy of the model\n",
    "print('Accuracy:', accuracy)\n",
    "\n",
    "\n",
    "\n",
    "\n"
   ]
  },
  {
   "cell_type": "code",
   "execution_count": 12,
   "metadata": {},
   "outputs": [
    {
     "name": "stdout",
     "output_type": "stream",
     "text": [
      "        id difficulty\n",
      "0        0         C2\n",
      "1        1         A2\n",
      "2        2         A1\n",
      "3        3         A1\n",
      "4        4         C2\n",
      "...    ...        ...\n",
      "1195  1195         B1\n",
      "1196  1196         A2\n",
      "1197  1197         C2\n",
      "1198  1198         C2\n",
      "1199  1199         B1\n",
      "\n",
      "[1200 rows x 2 columns]\n"
     ]
    }
   ],
   "source": [
    "\n",
    "# vectorize the text data using TF-IDF\n",
    "vectorizer = TfidfVectorizer()\n",
    "X_train_vec = vectorizer.fit_transform(training_data_df['sentence'])\n",
    "X_test_vec = vectorizer.transform(unlabelled_test_data_df['sentence'])\n",
    "\n",
    "# train the model on the full training dataset\n",
    "clf = MultinomialNB()\n",
    "clf.fit(X_train_vec, training_data_df['difficulty'])\n",
    "\n",
    "# make predictions on the test set\n",
    "y_pred = clf.predict(X_test_vec)\n",
    "\n",
    "# create a dataframe with the predictions\n",
    "predictions_df = pd.DataFrame({'id': unlabelled_test_data_df['id'], 'difficulty': y_pred})\n",
    "\n",
    "# display the dataframe\n",
    "print(predictions_df)\n"
   ]
  },
  {
   "cell_type": "markdown",
   "metadata": {},
   "source": [
    "**MODEL : TF-IDF model**\n",
    "\n",
    "Here we use a TF-IDF "
   ]
  },
  {
   "cell_type": "code",
   "execution_count": 13,
   "metadata": {},
   "outputs": [
    {
     "name": "stdout",
     "output_type": "stream",
     "text": [
      "                                                 X_test y_test y_pred\n",
      "596                             Je peux m'asseoir ici ?     A1     A1\n",
      "3370  C'est la couleur de nombreux fruits et légumes...     A1     A1\n",
      "3048  Pas au point qu'il faille en limiter la consom...     C2     C2\n",
      "2908  Les Français ne cèdent pas au chacun pour soi,...     B2     C2\n",
      "8     J'ai retrouvé le plaisir de manger un oeuf à l...     A2     A2\n",
      "...                                                 ...    ...    ...\n",
      "2968                                  Il fait très beau     A2     A1\n",
      "198   Nous apportons des arguments experimentaux et ...     C2     C2\n",
      "2422  La montée des valeurs humanistes est une réali...     B2     B2\n",
      "1485  La \"visio\" atténuera sans doute l'émotion des ...     C1     C2\n",
      "402   Lucien Neuwirth, pionnier de la contraception,...     C1     B2\n",
      "\n",
      "[960 rows x 3 columns]\n",
      "----------- RESULTS -----------\n",
      "Accuracy: 0.45416666666666666\n"
     ]
    },
    {
     "data": {
      "image/png": "[encoded data removed]",
      "text/plain": [
       "<Figure size 640x480 with 2 Axes>"
      ]
     },
     "metadata": {},
     "output_type": "display_data"
    }
   ],
   "source": [
    "\n",
    "# import the necessary libraries\n",
    "\n",
    "# split the data into training and testing sets\n",
    "X_train, X_test, y_train, y_test = train_test_split(training_data_df['sentence'], training_data_df['difficulty'], test_size=0.2, random_state=42)\n",
    "\n",
    "# vectorize the text data using TF-IDF\n",
    "vectorizer = TfidfVectorizer()\n",
    "X_train_vec = vectorizer.fit_transform(X_train)\n",
    "X_test_vec = vectorizer.transform(X_test)\n",
    "\n",
    "# train the model\n",
    "clf = MultinomialNB()\n",
    "clf.fit(X_train_vec, y_train)\n",
    "\n",
    "# make predictions on the test set\n",
    "y_pred = clf.predict(X_test_vec)\n",
    "\n",
    "# calculate the accuracy of the model\n",
    "accuracy = accuracy_score(y_test, y_pred)\n",
    "\n",
    "# create a dataframe with X_test, y_test, and y_pred\n",
    "df = pd.DataFrame({'X_test': X_test, 'y_test': y_test, 'y_pred': y_pred})\n",
    "\n",
    "# display the dataframe\n",
    "print(df)\n",
    "print('----------- RESULTS -----------')\n",
    "\n",
    "# display the confusion matrix\n",
    "disp = ConfusionMatrixDisplay(confusion_matrix=cm, display_labels=clf.classes_)\n",
    "disp.plot()\n",
    "\n",
    "# display the accuracy of the model\n",
    "print('Accuracy:', accuracy)\n",
    "\n",
    "\n"
   ]
  },
  {
   "cell_type": "code",
   "execution_count": 88,
   "metadata": {},
   "outputs": [
    {
     "name": "stdout",
     "output_type": "stream",
     "text": [
      "        id difficulty\n",
      "0        0         C2\n",
      "1        1         A2\n",
      "2        2         A1\n",
      "3        3         A1\n",
      "4        4         C2\n",
      "...    ...        ...\n",
      "1195  1195         B1\n",
      "1196  1196         A2\n",
      "1197  1197         C2\n",
      "1198  1198         C2\n",
      "1199  1199         B1\n",
      "\n",
      "[1200 rows x 2 columns]\n",
      "Predictions saved to Predictions-Folder/predictions_2023-11-14_17-00-49.csv\n"
     ]
    }
   ],
   "source": [
    "import os\n",
    "import random\n",
    "import string\n",
    "import datetime\n",
    "\n",
    "# vectorize the text data using TF-IDF\n",
    "vectorizer = TfidfVectorizer()\n",
    "X_train_vec = vectorizer.fit_transform(training_data_df['sentence'])\n",
    "X_test_vec = vectorizer.transform(unlabelled_test_data_df['sentence'])\n",
    "\n",
    "# train the model on the full training dataset\n",
    "clf = MultinomialNB()\n",
    "clf.fit(X_train_vec, training_data_df['difficulty'])\n",
    "\n",
    "# make predictions on the test set\n",
    "y_pred = clf.predict(X_test_vec)\n",
    "\n",
    "# create a dataframe with the predictions\n",
    "predictions_df = pd.DataFrame({'id': unlabelled_test_data_df['id'], 'difficulty': y_pred})\n",
    "\n",
    "# display the dataframe\n",
    "print(predictions_df)\n",
    "\n",
    "# create the folder if it doesn't exist\n",
    "if not os.path.exists('Predictions-Folder'):\n",
    "    os.makedirs('Predictions-Folder')\n",
    "\n",
    "# get the current date and time\n",
    "now = datetime.datetime.now()\n",
    "\n",
    "# create the filename with the current date and time\n",
    "filename = f'predictions_{now.strftime(\"%Y-%m-%d_%H-%M-%S\")}.csv'\n",
    "\n",
    "# write the predictions dataframe to a CSV file in the Predictions-Folder\n",
    "predictions_df.to_csv(f'Predictions-Folder/{filename}', index=False)\n",
    "\n",
    "print(f'Predictions saved to Predictions-Folder/{filename}')\n"
   ]
  }
 ],
 "metadata": {
  "kernelspec": {
   "display_name": "myassignements",
   "language": "python",
   "name": "myassignements"
  },
  "language_info": {
   "codemirror_mode": {
    "name": "ipython",
    "version": 3
   },
   "file_extension": ".py",
   "mimetype": "text/x-python",
   "name": "python",
   "nbconvert_exporter": "python",
   "pygments_lexer": "ipython3",
   "version": "3.11.5"
  }
 },
 "nbformat": 4,
 "nbformat_minor": 2
}
